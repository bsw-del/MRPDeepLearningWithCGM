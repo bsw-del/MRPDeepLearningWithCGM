{
 "cells": [
  {
   "cell_type": "code",
   "execution_count": 5,
   "metadata": {},
   "outputs": [],
   "source": [
    "from dataprep import *\n",
    "import pandas as pd\n",
    "import numpy as np\n",
    "import matplotlib.pyplot as pyplot\n",
    "import os"
   ]
  },
  {
   "cell_type": "code",
   "execution_count": 11,
   "metadata": {},
   "outputs": [],
   "source": [
    "path_for_data = 'C:\\\\Users\\\\bensa\\\\Documents\\\\MRPLocal\\\\Data'\n",
    "cgm_data = 'CGM_Processed.csv'\n",
    "file_cgm = os.path.join(path_for_data, cgm_data)\n"
   ]
  },
  {
   "cell_type": "code",
   "execution_count": 12,
   "metadata": {},
   "outputs": [],
   "source": [
    "## Process data and create initial dataFrame\n",
    "cgm_data = DataCleaning()"
   ]
  },
  {
   "cell_type": "code",
   "execution_count": 13,
   "metadata": {},
   "outputs": [],
   "source": [
    "## Only run the below if you want to rebuild your data file - due to the size of the source this can take up to an hour to run\n",
    "#cgm_data.resequenceData(size=3)"
   ]
  },
  {
   "cell_type": "markdown",
   "metadata": {},
   "source": [
    "## EDA for Project Section"
   ]
  },
  {
   "cell_type": "code",
   "execution_count": 14,
   "metadata": {},
   "outputs": [
    {
     "data": {
      "text/html": [
       "<div>\n",
       "<style scoped>\n",
       "    .dataframe tbody tr th:only-of-type {\n",
       "        vertical-align: middle;\n",
       "    }\n",
       "\n",
       "    .dataframe tbody tr th {\n",
       "        vertical-align: top;\n",
       "    }\n",
       "\n",
       "    .dataframe thead th {\n",
       "        text-align: right;\n",
       "    }\n",
       "</style>\n",
       "<table border=\"1\" class=\"dataframe\">\n",
       "  <thead>\n",
       "    <tr style=\"text-align: right;\">\n",
       "      <th></th>\n",
       "      <th>Unnamed: 0.1</th>\n",
       "      <th>index</th>\n",
       "      <th>Unnamed: 0</th>\n",
       "      <th>RecID</th>\n",
       "      <th>PtID</th>\n",
       "      <th>ParentCITYDeviceUploadsID</th>\n",
       "      <th>DeviceDtTm</th>\n",
       "      <th>RecordType</th>\n",
       "      <th>Value</th>\n",
       "      <th>Units</th>\n",
       "      <th>SortOrd</th>\n",
       "      <th>ValueMMOL</th>\n",
       "      <th>DDate</th>\n",
       "      <th>hourOfDay</th>\n",
       "      <th>series</th>\n",
       "      <th>series_id</th>\n",
       "    </tr>\n",
       "  </thead>\n",
       "  <tbody>\n",
       "    <tr>\n",
       "      <th>0</th>\n",
       "      <td>0</td>\n",
       "      <td>0</td>\n",
       "      <td>0</td>\n",
       "      <td>1539485</td>\n",
       "      <td>39</td>\n",
       "      <td>651</td>\n",
       "      <td>2000-04-21 04:31:56</td>\n",
       "      <td>CGM</td>\n",
       "      <td>135.0</td>\n",
       "      <td>mg/dL</td>\n",
       "      <td>7880.0</td>\n",
       "      <td>7.5</td>\n",
       "      <td>2000-04-21</td>\n",
       "      <td>4</td>\n",
       "      <td>False</td>\n",
       "      <td>73331</td>\n",
       "    </tr>\n",
       "    <tr>\n",
       "      <th>1</th>\n",
       "      <td>1</td>\n",
       "      <td>1</td>\n",
       "      <td>1</td>\n",
       "      <td>1539486</td>\n",
       "      <td>39</td>\n",
       "      <td>651</td>\n",
       "      <td>2000-04-21 04:36:55</td>\n",
       "      <td>CGM</td>\n",
       "      <td>133.0</td>\n",
       "      <td>mg/dL</td>\n",
       "      <td>7881.0</td>\n",
       "      <td>7.4</td>\n",
       "      <td>2000-04-21</td>\n",
       "      <td>4</td>\n",
       "      <td>False</td>\n",
       "      <td>73331</td>\n",
       "    </tr>\n",
       "    <tr>\n",
       "      <th>2</th>\n",
       "      <td>2</td>\n",
       "      <td>2</td>\n",
       "      <td>2</td>\n",
       "      <td>1539487</td>\n",
       "      <td>39</td>\n",
       "      <td>651</td>\n",
       "      <td>2000-04-21 04:41:55</td>\n",
       "      <td>CGM</td>\n",
       "      <td>133.0</td>\n",
       "      <td>mg/dL</td>\n",
       "      <td>7882.0</td>\n",
       "      <td>7.4</td>\n",
       "      <td>2000-04-21</td>\n",
       "      <td>4</td>\n",
       "      <td>False</td>\n",
       "      <td>73331</td>\n",
       "    </tr>\n",
       "    <tr>\n",
       "      <th>3</th>\n",
       "      <td>3</td>\n",
       "      <td>3</td>\n",
       "      <td>3</td>\n",
       "      <td>1539488</td>\n",
       "      <td>39</td>\n",
       "      <td>651</td>\n",
       "      <td>2000-04-21 04:46:56</td>\n",
       "      <td>CGM</td>\n",
       "      <td>133.0</td>\n",
       "      <td>mg/dL</td>\n",
       "      <td>7883.0</td>\n",
       "      <td>7.4</td>\n",
       "      <td>2000-04-21</td>\n",
       "      <td>4</td>\n",
       "      <td>False</td>\n",
       "      <td>73331</td>\n",
       "    </tr>\n",
       "    <tr>\n",
       "      <th>4</th>\n",
       "      <td>4</td>\n",
       "      <td>4</td>\n",
       "      <td>4</td>\n",
       "      <td>1539489</td>\n",
       "      <td>39</td>\n",
       "      <td>651</td>\n",
       "      <td>2000-04-21 04:51:56</td>\n",
       "      <td>CGM</td>\n",
       "      <td>134.0</td>\n",
       "      <td>mg/dL</td>\n",
       "      <td>7884.0</td>\n",
       "      <td>7.4</td>\n",
       "      <td>2000-04-21</td>\n",
       "      <td>4</td>\n",
       "      <td>False</td>\n",
       "      <td>73331</td>\n",
       "    </tr>\n",
       "  </tbody>\n",
       "</table>\n",
       "</div>"
      ],
      "text/plain": [
       "   Unnamed: 0.1  index  Unnamed: 0    RecID  PtID  ParentCITYDeviceUploadsID  \\\n",
       "0             0      0           0  1539485    39                        651   \n",
       "1             1      1           1  1539486    39                        651   \n",
       "2             2      2           2  1539487    39                        651   \n",
       "3             3      3           3  1539488    39                        651   \n",
       "4             4      4           4  1539489    39                        651   \n",
       "\n",
       "            DeviceDtTm RecordType  Value  Units  SortOrd  ValueMMOL  \\\n",
       "0  2000-04-21 04:31:56        CGM  135.0  mg/dL   7880.0        7.5   \n",
       "1  2000-04-21 04:36:55        CGM  133.0  mg/dL   7881.0        7.4   \n",
       "2  2000-04-21 04:41:55        CGM  133.0  mg/dL   7882.0        7.4   \n",
       "3  2000-04-21 04:46:56        CGM  133.0  mg/dL   7883.0        7.4   \n",
       "4  2000-04-21 04:51:56        CGM  134.0  mg/dL   7884.0        7.4   \n",
       "\n",
       "        DDate  hourOfDay  series  series_id  \n",
       "0  2000-04-21          4   False      73331  \n",
       "1  2000-04-21          4   False      73331  \n",
       "2  2000-04-21          4   False      73331  \n",
       "3  2000-04-21          4   False      73331  \n",
       "4  2000-04-21          4   False      73331  "
      ]
     },
     "execution_count": 14,
     "metadata": {},
     "output_type": "execute_result"
    }
   ],
   "source": [
    "## load dataframe from cleaned data\n",
    "CGMDf = pd.read_csv(file_cgm)\n",
    "CGMDf.head()"
   ]
  },
  {
   "cell_type": "markdown",
   "metadata": {},
   "source": [
    "### Cleaning up data:<br>\n",
    "Removing unused columns<br>\n",
    "Correcting Datatypes<br>\n",
    "Removing series with less than 25 observations as those won't provide sufficient detail to create forecast"
   ]
  },
  {
   "cell_type": "code",
   "execution_count": 4,
   "metadata": {},
   "outputs": [
    {
     "data": {
      "text/plain": [
       "1950448"
      ]
     },
     "execution_count": 4,
     "metadata": {},
     "output_type": "execute_result"
    }
   ],
   "source": [
    "\n",
    "## drop unnecessary columns to save on space / compute\n",
    "CGMDf.drop(['Unnamed: 0.1','index','Unnamed: 0','RecordType','Value'], inplace=True, axis=1)\n",
    "\n",
    "## cleaning up the data -- Resetting data types\n",
    "CGMDf['DDate']=pd.to_datetime(CGMDf['DDate'])\n",
    "CGMDf['DeviceDtTm']=pd.to_datetime(CGMDf['DeviceDtTm'])\n",
    "CGMDf.SortOrd=CGMDf.SortOrd.astype(int)\n",
    "\n",
    "## cleaning data - removing series where not enough samples to learn / predict\n",
    "a=pd.DataFrame(CGMDf.groupby(['PtID','series_id'])['RecID'].count())\n",
    "a.reset_index(inplace=True)\n",
    "CGMDf = CGMDf[~CGMDf.series_id.isin(a.series_id[a.RecID<=25].to_list())] ## Remove series where there will be no ability to forecast more than 5 datapoints\n",
    "CGMDf.shape[0]\n",
    "## 1 950 448 -- samples remaining\n"
   ]
  },
  {
   "cell_type": "code",
   "execution_count": 101,
   "metadata": {},
   "outputs": [
    {
     "data": {
      "text/html": [
       "<div>\n",
       "<style scoped>\n",
       "    .dataframe tbody tr th:only-of-type {\n",
       "        vertical-align: middle;\n",
       "    }\n",
       "\n",
       "    .dataframe tbody tr th {\n",
       "        vertical-align: top;\n",
       "    }\n",
       "\n",
       "    .dataframe thead th {\n",
       "        text-align: right;\n",
       "    }\n",
       "</style>\n",
       "<table border=\"1\" class=\"dataframe\">\n",
       "  <thead>\n",
       "    <tr style=\"text-align: right;\">\n",
       "      <th></th>\n",
       "      <th>RecID</th>\n",
       "      <th>PtID</th>\n",
       "      <th>ParentCITYDeviceUploadsID</th>\n",
       "      <th>DeviceDtTm</th>\n",
       "      <th>Units</th>\n",
       "      <th>SortOrd</th>\n",
       "      <th>ValueMMOL</th>\n",
       "      <th>DDate</th>\n",
       "      <th>hourOfDay</th>\n",
       "      <th>series</th>\n",
       "      <th>series_id</th>\n",
       "    </tr>\n",
       "  </thead>\n",
       "  <tbody>\n",
       "    <tr>\n",
       "      <th>0</th>\n",
       "      <td>1539485</td>\n",
       "      <td>39</td>\n",
       "      <td>651</td>\n",
       "      <td>2000-04-21 04:31:56</td>\n",
       "      <td>mg/dL</td>\n",
       "      <td>7880</td>\n",
       "      <td>7.5</td>\n",
       "      <td>2000-04-21</td>\n",
       "      <td>4</td>\n",
       "      <td>False</td>\n",
       "      <td>73331</td>\n",
       "    </tr>\n",
       "    <tr>\n",
       "      <th>1</th>\n",
       "      <td>1539486</td>\n",
       "      <td>39</td>\n",
       "      <td>651</td>\n",
       "      <td>2000-04-21 04:36:55</td>\n",
       "      <td>mg/dL</td>\n",
       "      <td>7881</td>\n",
       "      <td>7.4</td>\n",
       "      <td>2000-04-21</td>\n",
       "      <td>4</td>\n",
       "      <td>False</td>\n",
       "      <td>73331</td>\n",
       "    </tr>\n",
       "    <tr>\n",
       "      <th>2</th>\n",
       "      <td>1539487</td>\n",
       "      <td>39</td>\n",
       "      <td>651</td>\n",
       "      <td>2000-04-21 04:41:55</td>\n",
       "      <td>mg/dL</td>\n",
       "      <td>7882</td>\n",
       "      <td>7.4</td>\n",
       "      <td>2000-04-21</td>\n",
       "      <td>4</td>\n",
       "      <td>False</td>\n",
       "      <td>73331</td>\n",
       "    </tr>\n",
       "    <tr>\n",
       "      <th>3</th>\n",
       "      <td>1539488</td>\n",
       "      <td>39</td>\n",
       "      <td>651</td>\n",
       "      <td>2000-04-21 04:46:56</td>\n",
       "      <td>mg/dL</td>\n",
       "      <td>7883</td>\n",
       "      <td>7.4</td>\n",
       "      <td>2000-04-21</td>\n",
       "      <td>4</td>\n",
       "      <td>False</td>\n",
       "      <td>73331</td>\n",
       "    </tr>\n",
       "    <tr>\n",
       "      <th>4</th>\n",
       "      <td>1539489</td>\n",
       "      <td>39</td>\n",
       "      <td>651</td>\n",
       "      <td>2000-04-21 04:51:56</td>\n",
       "      <td>mg/dL</td>\n",
       "      <td>7884</td>\n",
       "      <td>7.4</td>\n",
       "      <td>2000-04-21</td>\n",
       "      <td>4</td>\n",
       "      <td>False</td>\n",
       "      <td>73331</td>\n",
       "    </tr>\n",
       "  </tbody>\n",
       "</table>\n",
       "</div>"
      ],
      "text/plain": [
       "     RecID  PtID  ParentCITYDeviceUploadsID          DeviceDtTm  Units  \\\n",
       "0  1539485    39                        651 2000-04-21 04:31:56  mg/dL   \n",
       "1  1539486    39                        651 2000-04-21 04:36:55  mg/dL   \n",
       "2  1539487    39                        651 2000-04-21 04:41:55  mg/dL   \n",
       "3  1539488    39                        651 2000-04-21 04:46:56  mg/dL   \n",
       "4  1539489    39                        651 2000-04-21 04:51:56  mg/dL   \n",
       "\n",
       "   SortOrd  ValueMMOL      DDate  hourOfDay  series  series_id  \n",
       "0     7880        7.5 2000-04-21          4   False      73331  \n",
       "1     7881        7.4 2000-04-21          4   False      73331  \n",
       "2     7882        7.4 2000-04-21          4   False      73331  \n",
       "3     7883        7.4 2000-04-21          4   False      73331  \n",
       "4     7884        7.4 2000-04-21          4   False      73331  "
      ]
     },
     "execution_count": 101,
     "metadata": {},
     "output_type": "execute_result"
    }
   ],
   "source": [
    "## looking at remaining structured data\n",
    "CGMDf.head()"
   ]
  },
  {
   "cell_type": "code",
   "execution_count": 23,
   "metadata": {},
   "outputs": [
    {
     "data": {
      "text/plain": [
       "RecID                                 int64\n",
       "PtID                                  int64\n",
       "ParentCITYDeviceUploadsID             int64\n",
       "DeviceDtTm                   datetime64[ns]\n",
       "Units                                object\n",
       "SortOrd                               int64\n",
       "ValueMMOL                           float64\n",
       "DDate                        datetime64[ns]\n",
       "hourOfDay                             int64\n",
       "series                                 bool\n",
       "series_id                             int64\n",
       "dtype: object"
      ]
     },
     "execution_count": 23,
     "metadata": {},
     "output_type": "execute_result"
    }
   ],
   "source": [
    "CGMDf.dtypes"
   ]
  },
  {
   "cell_type": "markdown",
   "metadata": {},
   "source": [
    "## Basic statistics \n",
    "Summary points about the data"
   ]
  },
  {
   "cell_type": "code",
   "execution_count": 5,
   "metadata": {},
   "outputs": [
    {
     "data": {
      "text/html": [
       "<div>\n",
       "<style scoped>\n",
       "    .dataframe tbody tr th:only-of-type {\n",
       "        vertical-align: middle;\n",
       "    }\n",
       "\n",
       "    .dataframe tbody tr th {\n",
       "        vertical-align: top;\n",
       "    }\n",
       "\n",
       "    .dataframe thead th {\n",
       "        text-align: right;\n",
       "    }\n",
       "</style>\n",
       "<table border=\"1\" class=\"dataframe\">\n",
       "  <thead>\n",
       "    <tr style=\"text-align: right;\">\n",
       "      <th></th>\n",
       "      <th>metric</th>\n",
       "      <th>value</th>\n",
       "    </tr>\n",
       "  </thead>\n",
       "  <tbody>\n",
       "    <tr>\n",
       "      <th>0</th>\n",
       "      <td>number_of_people</td>\n",
       "      <td>144.000000</td>\n",
       "    </tr>\n",
       "    <tr>\n",
       "      <th>1</th>\n",
       "      <td>number_of_series_per_person_mean</td>\n",
       "      <td>123.548611</td>\n",
       "    </tr>\n",
       "    <tr>\n",
       "      <th>2</th>\n",
       "      <td>number_of_series_per_person_max</td>\n",
       "      <td>596.000000</td>\n",
       "    </tr>\n",
       "    <tr>\n",
       "      <th>3</th>\n",
       "      <td>number_of_series_per_person_min</td>\n",
       "      <td>1.000000</td>\n",
       "    </tr>\n",
       "  </tbody>\n",
       "</table>\n",
       "</div>"
      ],
      "text/plain": [
       "                             metric       value\n",
       "0                  number_of_people  144.000000\n",
       "1  number_of_series_per_person_mean  123.548611\n",
       "2   number_of_series_per_person_max  596.000000\n",
       "3   number_of_series_per_person_min    1.000000"
      ]
     },
     "execution_count": 5,
     "metadata": {},
     "output_type": "execute_result"
    }
   ],
   "source": [
    "## Create a Dictionary of statistics for summary\n",
    "ptStats = {} ## stat dictionary for people\n",
    "\n",
    "## number of people in the file\n",
    "ptStats['number_of_people']=CGMDf.groupby(['PtID'])['RecID'].count().shape[0] \n",
    "\n",
    "## avg series per person, max series per person, min series per person\n",
    "c = pd.DataFrame(CGMDf.groupby(['PtID','series_id'])['RecID'].count())\n",
    "c.reset_index(inplace=True)\n",
    "ptStats['number_of_series_per_person_mean'] = c.groupby(['PtID'])['RecID'].count().mean()\n",
    "ptStats['number_of_series_per_person_max'] = c.groupby(['PtID'])['RecID'].count().max()\n",
    "ptStats['number_of_series_per_person_min'] = c.groupby(['PtID'])['RecID'].count().min()\n",
    "ptStatsDf = pd.DataFrame(ptStats.items(),columns=['metric','value'])\n",
    "ptStatsDf\n"
   ]
  },
  {
   "cell_type": "markdown",
   "metadata": {},
   "source": [
    "## demonstrate the amount of series available per patient"
   ]
  },
  {
   "cell_type": "code",
   "execution_count": 15,
   "metadata": {},
   "outputs": [],
   "source": [
    "plt.style.use('ggplot')"
   ]
  },
  {
   "cell_type": "code",
   "execution_count": 16,
   "metadata": {},
   "outputs": [
    {
     "data": {
      "image/png": "[encoded data removed]",
      "text/plain": [
       "<Figure size 864x576 with 1 Axes>"
      ]
     },
     "metadata": {},
     "output_type": "display_data"
    }
   ],
   "source": [
    "a= pd.DataFrame(c.groupby(['PtID'])['RecID'].count())\n",
    "a.reset_index(inplace=True)\n",
    "\n",
    "#plt.clf()\n",
    "plt.style.use('seaborn-pastel')\n",
    "fig = pyplot.figure()\n",
    "a['RecID'].hist(bins=30,figsize=(12,8), grid=False,xlabelsize=14,ylabelsize=14,edgecolor='grey')\n",
    "pyplot.title('Data Series per Person', fontsize='16',color='black')\n",
    "pyplot.xlabel('Number of series',fontsize='14')\n",
    "pyplot.ylabel('Count of people',fontsize='14')\n",
    "\n",
    "#plt.xticks(np.arange(4, 20, 2))\n",
    "#plt.yticks(np.arange(0, 20, 2))\n",
    "\n",
    "#pyplot.savefig('/Users/bsw/Documents/MRPLocal/Figures/MeanBGperPerson.jpg',)\n",
    "pyplot.show()\n"
   ]
  },
  {
   "cell_type": "code",
   "execution_count": 191,
   "metadata": {},
   "outputs": [
    {
     "data": {
      "text/html": [
       "<div>\n",
       "<style scoped>\n",
       "    .dataframe tbody tr th:only-of-type {\n",
       "        vertical-align: middle;\n",
       "    }\n",
       "\n",
       "    .dataframe tbody tr th {\n",
       "        vertical-align: top;\n",
       "    }\n",
       "\n",
       "    .dataframe thead th {\n",
       "        text-align: right;\n",
       "    }\n",
       "</style>\n",
       "<table border=\"1\" class=\"dataframe\">\n",
       "  <thead>\n",
       "    <tr style=\"text-align: right;\">\n",
       "      <th></th>\n",
       "      <th>metric</th>\n",
       "      <th>value</th>\n",
       "    </tr>\n",
       "  </thead>\n",
       "  <tbody>\n",
       "    <tr>\n",
       "      <th>0</th>\n",
       "      <td>series_mean</td>\n",
       "      <td>109.631162</td>\n",
       "    </tr>\n",
       "    <tr>\n",
       "      <th>1</th>\n",
       "      <td>series_max</td>\n",
       "      <td>1258.000000</td>\n",
       "    </tr>\n",
       "    <tr>\n",
       "      <th>2</th>\n",
       "      <td>series_min</td>\n",
       "      <td>26.000000</td>\n",
       "    </tr>\n",
       "    <tr>\n",
       "      <th>3</th>\n",
       "      <td>series_count</td>\n",
       "      <td>17791.000000</td>\n",
       "    </tr>\n",
       "  </tbody>\n",
       "</table>\n",
       "</div>"
      ],
      "text/plain": [
       "         metric         value\n",
       "0   series_mean    109.631162\n",
       "1    series_max   1258.000000\n",
       "2    series_min     26.000000\n",
       "3  series_count  17791.000000"
      ]
     },
     "execution_count": 191,
     "metadata": {},
     "output_type": "execute_result"
    }
   ],
   "source": [
    "\n",
    "## avg series per person, max series per person, min series per person\n",
    "d = pd.DataFrame(CGMDf.groupby(['PtID','series_id'])['RecID'].count())\n",
    "d.reset_index(inplace=True)\n",
    "srStats={} ## series stat dictionary\n",
    "\n",
    "srStats['series_mean'] = d.RecID.mean()\n",
    "srStats['series_max'] = d.RecID.max()\n",
    "srStats['series_min'] = d.RecID.min()\n",
    "srStats['series_count'] = d.RecID.count()\n",
    "\n",
    "srDf = pd.DataFrame(srStats.items(),columns=['metric','value'])\n",
    "srDf\n",
    "## go back up and fix for dataframe\n"
   ]
  },
  {
   "cell_type": "markdown",
   "metadata": {},
   "source": [
    "## Plotting mean BG by person in the data set to understand in general how the target variable is distributed by the person"
   ]
  },
  {
   "cell_type": "code",
   "execution_count": 14,
   "metadata": {},
   "outputs": [
    {
     "data": {
      "image/png": "[encoded data removed]",
      "text/plain": [
       "<Figure size 864x576 with 1 Axes>"
      ]
     },
     "metadata": {},
     "output_type": "display_data"
    }
   ],
   "source": [
    "CGMDf.head()\n",
    "BGbyPerson = CGMDf.groupby('PtID').agg({'ValueMMOL': ['mean', 'min', 'max','std']})\n",
    "BGbyPerson.reset_index(inplace=True)\n",
    "#BGbyPerson\n",
    "#BGbyPerson.ValueMMOL.mean\n",
    "AA = BGbyPerson.droplevel(0, axis=1)\n",
    "\n",
    "plt.style.use('seaborn-pastel')\n",
    "fig = pyplot.figure()\n",
    "AA['mean'].hist(bins=20, figsize=(12,8), grid=False,xlabelsize=14,ylabelsize=14,edgecolor='grey')\n",
    "pyplot.title('Mean BG per Person', fontsize='16',color='black')\n",
    "pyplot.xlabel('BG in MMOL/L',fontsize='14')\n",
    "pyplot.ylabel('Count of people',fontsize='14')\n",
    "\n",
    "plt.xticks(np.arange(4, 20, 2))\n",
    "plt.yticks(np.arange(0, 20, 2))\n",
    "\n",
    "#pyplot.savefig('/Users/bsw/Documents/MRPLocal/Figures/MeanBGperPerson.jpg',)\n",
    "pyplot.show()"
   ]
  },
  {
   "cell_type": "markdown",
   "metadata": {},
   "source": [
    "## Plot a few of the series to explore visually and determine if any treatment may be considered after reviewing"
   ]
  },
  {
   "cell_type": "code",
   "execution_count": 22,
   "metadata": {},
   "outputs": [],
   "source": [
    "CGMDf.groupby('PtID').count()\n",
    "PtIDSample = [180,181,5,6]\n",
    "\n",
    "## find Series_id to sample\n",
    "SeriesSample=[96712,96740, ## pt 180\n",
    "91021,91095, ##pt 181\n",
    "85996,106371] ##pt 5\n",
    "\n",
    "#CGMDf[CGMDf['PtID']==PtIDSample[2]]\n"
   ]
  },
  {
   "cell_type": "code",
   "execution_count": 189,
   "metadata": {},
   "outputs": [
    {
     "data": {
      "image/png": "[encoded data removed]",
      "text/plain": [
       "<Figure size 1008x720 with 1 Axes>"
      ]
     },
     "metadata": {},
     "output_type": "display_data"
    }
   ],
   "source": [
    "y = CGMDf[CGMDf.series_id==SeriesSample[0]].ValueMMOL.to_list()\n",
    "\n",
    "plt.figure(figsize=(14,10))\n",
    "plt.plot(y, label='Sample')\n",
    "plt.xlabel('Time Series in 5 minute intervals')\n",
    "plt.ylabel('Readings in MMOL/L')\n",
    "plt.title('Series evaluation for person #180, series #96712',color='black')\n",
    "plt.legend()\n",
    "plt.show()\n",
    "#plt.clf()"
   ]
  },
  {
   "cell_type": "code",
   "execution_count": 190,
   "metadata": {},
   "outputs": [
    {
     "data": {
      "image/png": "[encoded data removed]",
      "text/plain": [
       "<Figure size 1008x720 with 1 Axes>"
      ]
     },
     "metadata": {},
     "output_type": "display_data"
    }
   ],
   "source": [
    "y = CGMDf[CGMDf.series_id==SeriesSample[2]].ValueMMOL.to_list()\n",
    "\n",
    "plt.figure(figsize=(14,10))\n",
    "plt.plot(y, label='Sample')\n",
    "plt.xlabel('Time Series in 5 minute intervals')\n",
    "plt.ylabel('Readings in MMOL/L')\n",
    "plt.title('Series evaluation for person #181, series #91021',color='black')\n",
    "plt.legend()\n",
    "plt.show()\n",
    "#plt.clf()"
   ]
  },
  {
   "cell_type": "code",
   "execution_count": 109,
   "metadata": {},
   "outputs": [
    {
     "data": {
      "text/plain": [
       "123.54861111111111"
      ]
     },
     "execution_count": 109,
     "metadata": {},
     "output_type": "execute_result"
    }
   ],
   "source": [
    "c = pd.DataFrame(CGMDf.groupby(['PtID','series_id'])['RecID'].count())\n",
    "c.reset_index(inplace=True)\n",
    "c.groupby(['PtID'])['RecID'].count().mean()"
   ]
  },
  {
   "cell_type": "code",
   "execution_count": 17,
   "metadata": {},
   "outputs": [
    {
     "data": {
      "text/plain": [
       "17791"
      ]
     },
     "execution_count": 17,
     "metadata": {},
     "output_type": "execute_result"
    }
   ],
   "source": [
    "grpPTandSeries = pd.DataFrame(CGMDf.groupby(['PtID','series_id'])['RecID'].count()) ## number of people in the file\n",
    "grpPTandSeries[grpPTandSeries['RecID']<=100000].shape[0]\n",
    "\n",
    "## Remove the sequences less than 10, they will be useless, create stats based on that."
   ]
  },
  {
   "cell_type": "code",
   "execution_count": 20,
   "metadata": {},
   "outputs": [
    {
     "name": "stderr",
     "output_type": "stream",
     "text": [
      "No artists with labels found to put in legend.  Note that artists whose label start with an underscore are ignored when legend() is called with no argument.\n"
     ]
    },
    {
     "data": {
      "text/plain": [
       "<Figure size 1008x720 with 0 Axes>"
      ]
     },
     "metadata": {},
     "output_type": "display_data"
    },
    {
     "data": {
      "image/png": "[encoded data removed]",
      "text/plain": [
       "<Figure size 1008x720 with 1 Axes>"
      ]
     },
     "metadata": {},
     "output_type": "display_data"
    }
   ],
   "source": [
    "plt.figure(figsize=(14,10))\n",
    "grpPTandSeries[grpPTandSeries['RecID'].between(0,800)].hist(bins=150,figsize=(14,10),grid=False)\n",
    "plt.xlabel('Length of Series')\n",
    "plt.ylabel('Number of Series')\n",
    "plt.title('Examining length of Time Series',color='black')\n",
    "plt.legend()\n",
    "plt.show()"
   ]
  },
  {
   "cell_type": "code",
   "execution_count": 32,
   "metadata": {},
   "outputs": [
    {
     "data": {
      "text/plain": [
       "[[13.1,\n",
       "  13.2,\n",
       "  12.2,\n",
       "  11.2,\n",
       "  10.8,\n",
       "  10.8,\n",
       "  10.8,\n",
       "  9.9,\n",
       "  9.1,\n",
       "  8.7,\n",
       "  9.1,\n",
       "  9.5,\n",
       "  9.7,\n",
       "  8.9,\n",
       "  8.5,\n",
       "  8.5,\n",
       "  8.5,\n",
       "  8.3,\n",
       "  8.6,\n",
       "  8.2,\n",
       "  8.6,\n",
       "  9.3,\n",
       "  8.6,\n",
       "  8.9,\n",
       "  9.1,\n",
       "  9.7,\n",
       "  9.8,\n",
       "  9.2,\n",
       "  9.2,\n",
       "  8.9,\n",
       "  8.1,\n",
       "  8.3,\n",
       "  7.2,\n",
       "  5.9,\n",
       "  5.1,\n",
       "  4.8,\n",
       "  5.6,\n",
       "  5.6,\n",
       "  5.8,\n",
       "  5.8,\n",
       "  6.0,\n",
       "  6.1,\n",
       "  6.3,\n",
       "  6.8,\n",
       "  6.3,\n",
       "  6.2,\n",
       "  6.1,\n",
       "  6.6,\n",
       "  7.4,\n",
       "  8.4,\n",
       "  7.7,\n",
       "  8.3,\n",
       "  8.2,\n",
       "  7.5,\n",
       "  6.9,\n",
       "  7.5,\n",
       "  6.6,\n",
       "  7.0,\n",
       "  7.3,\n",
       "  7.7,\n",
       "  7.9,\n",
       "  7.8,\n",
       "  7.9,\n",
       "  8.5,\n",
       "  9.4,\n",
       "  10.5,\n",
       "  9.6,\n",
       "  9.9,\n",
       "  9.7,\n",
       "  9.5,\n",
       "  9.2,\n",
       "  9.1,\n",
       "  8.4,\n",
       "  8.3,\n",
       "  8.3,\n",
       "  7.9,\n",
       "  6.8,\n",
       "  6.7,\n",
       "  6.6,\n",
       "  6.6,\n",
       "  6.9,\n",
       "  6.8,\n",
       "  7.0,\n",
       "  7.7,\n",
       "  8.6,\n",
       "  9.2,\n",
       "  9.7,\n",
       "  9.6,\n",
       "  10.1,\n",
       "  10.4,\n",
       "  10.7,\n",
       "  10.9,\n",
       "  11.9,\n",
       "  12.4,\n",
       "  12.9,\n",
       "  13.6,\n",
       "  14.1,\n",
       "  14.3,\n",
       "  14.3,\n",
       "  14.5,\n",
       "  14.6,\n",
       "  14.8,\n",
       "  15.1,\n",
       "  14.8,\n",
       "  15.6,\n",
       "  15.7,\n",
       "  15.1,\n",
       "  14.8,\n",
       "  14.8,\n",
       "  14.9,\n",
       "  14.9,\n",
       "  15.0,\n",
       "  15.2,\n",
       "  15.3,\n",
       "  15.3,\n",
       "  15.3,\n",
       "  15.3,\n",
       "  15.1,\n",
       "  14.9,\n",
       "  14.8,\n",
       "  14.6,\n",
       "  13.9,\n",
       "  13.7,\n",
       "  14.1,\n",
       "  13.9,\n",
       "  13.6,\n",
       "  13.3,\n",
       "  12.9,\n",
       "  12.9,\n",
       "  12.8,\n",
       "  12.8,\n",
       "  12.8,\n",
       "  12.6,\n",
       "  12.9,\n",
       "  13.1,\n",
       "  13.2,\n",
       "  13.1,\n",
       "  12.7,\n",
       "  12.6,\n",
       "  12.6,\n",
       "  12.5,\n",
       "  12.4,\n",
       "  12.4,\n",
       "  12.7,\n",
       "  12.7,\n",
       "  12.7,\n",
       "  12.9,\n",
       "  13.1,\n",
       "  13.1,\n",
       "  13.3,\n",
       "  13.4,\n",
       "  13.4,\n",
       "  13.5,\n",
       "  13.6,\n",
       "  13.7,\n",
       "  13.8,\n",
       "  13.8,\n",
       "  13.9,\n",
       "  14.0,\n",
       "  14.1,\n",
       "  14.1,\n",
       "  14.1,\n",
       "  14.1,\n",
       "  14.0,\n",
       "  13.8,\n",
       "  13.9,\n",
       "  14.1,\n",
       "  14.2,\n",
       "  14.3,\n",
       "  14.2,\n",
       "  14.2,\n",
       "  14.4,\n",
       "  14.5,\n",
       "  14.4,\n",
       "  14.5,\n",
       "  14.6,\n",
       "  14.6,\n",
       "  14.6,\n",
       "  14.6,\n",
       "  14.6,\n",
       "  14.6,\n",
       "  16.2,\n",
       "  16.3],\n",
       " [13.1,\n",
       "  13.2,\n",
       "  12.2,\n",
       "  11.2,\n",
       "  10.8,\n",
       "  10.8,\n",
       "  10.8,\n",
       "  9.9,\n",
       "  9.1,\n",
       "  8.7,\n",
       "  9.1,\n",
       "  9.5,\n",
       "  9.7,\n",
       "  8.9,\n",
       "  8.5,\n",
       "  8.5,\n",
       "  8.5,\n",
       "  8.3,\n",
       "  8.6,\n",
       "  8.2,\n",
       "  8.6,\n",
       "  9.3,\n",
       "  8.6,\n",
       "  8.9,\n",
       "  9.1,\n",
       "  9.7,\n",
       "  9.8,\n",
       "  9.2,\n",
       "  9.2,\n",
       "  8.9,\n",
       "  8.1,\n",
       "  8.3,\n",
       "  7.2,\n",
       "  5.9,\n",
       "  5.1,\n",
       "  4.8,\n",
       "  5.6,\n",
       "  5.6,\n",
       "  5.8,\n",
       "  5.8,\n",
       "  6.0,\n",
       "  6.1,\n",
       "  6.3,\n",
       "  6.8,\n",
       "  6.3,\n",
       "  6.2,\n",
       "  6.1,\n",
       "  6.6,\n",
       "  7.4,\n",
       "  8.4,\n",
       "  7.7,\n",
       "  8.3,\n",
       "  8.2,\n",
       "  7.5,\n",
       "  6.9,\n",
       "  7.5,\n",
       "  6.6,\n",
       "  7.0,\n",
       "  7.3,\n",
       "  7.7,\n",
       "  7.9,\n",
       "  7.8,\n",
       "  7.9,\n",
       "  8.5,\n",
       "  9.4,\n",
       "  10.5,\n",
       "  9.6,\n",
       "  9.9,\n",
       "  9.7,\n",
       "  9.5,\n",
       "  9.2,\n",
       "  9.1,\n",
       "  8.4,\n",
       "  8.3,\n",
       "  8.3,\n",
       "  7.9,\n",
       "  6.8,\n",
       "  6.7,\n",
       "  6.6,\n",
       "  6.6,\n",
       "  6.9,\n",
       "  6.8,\n",
       "  7.0,\n",
       "  7.7,\n",
       "  8.6,\n",
       "  9.2,\n",
       "  9.7,\n",
       "  9.6,\n",
       "  10.1,\n",
       "  10.4,\n",
       "  10.7],\n",
       " [10.9,\n",
       "  11.9,\n",
       "  12.4,\n",
       "  12.9,\n",
       "  13.6,\n",
       "  14.1,\n",
       "  14.3,\n",
       "  14.3,\n",
       "  14.5,\n",
       "  14.6,\n",
       "  14.8,\n",
       "  15.1,\n",
       "  14.8,\n",
       "  15.6,\n",
       "  15.7,\n",
       "  15.1,\n",
       "  14.8,\n",
       "  14.8,\n",
       "  14.9,\n",
       "  14.9,\n",
       "  15.0,\n",
       "  15.2,\n",
       "  15.3,\n",
       "  15.3,\n",
       "  15.3,\n",
       "  15.3,\n",
       "  15.1,\n",
       "  14.9,\n",
       "  14.8,\n",
       "  14.6,\n",
       "  13.9,\n",
       "  13.7,\n",
       "  14.1,\n",
       "  13.9,\n",
       "  13.6,\n",
       "  13.3,\n",
       "  12.9,\n",
       "  12.9,\n",
       "  12.8,\n",
       "  12.8,\n",
       "  12.8,\n",
       "  12.6,\n",
       "  12.9,\n",
       "  13.1,\n",
       "  13.2,\n",
       "  13.1,\n",
       "  12.7,\n",
       "  12.6,\n",
       "  12.6,\n",
       "  12.5,\n",
       "  12.4,\n",
       "  12.4,\n",
       "  12.7,\n",
       "  12.7,\n",
       "  12.7,\n",
       "  12.9,\n",
       "  13.1,\n",
       "  13.1,\n",
       "  13.3,\n",
       "  13.4,\n",
       "  13.4,\n",
       "  13.5,\n",
       "  13.6,\n",
       "  13.7,\n",
       "  13.8,\n",
       "  13.8,\n",
       "  13.9,\n",
       "  14.0,\n",
       "  14.1,\n",
       "  14.1,\n",
       "  14.1,\n",
       "  14.1,\n",
       "  14.0,\n",
       "  13.8,\n",
       "  13.9,\n",
       "  14.1,\n",
       "  14.2,\n",
       "  14.3,\n",
       "  14.2,\n",
       "  14.2,\n",
       "  14.4,\n",
       "  14.5,\n",
       "  14.4,\n",
       "  14.5,\n",
       "  14.6,\n",
       "  14.6,\n",
       "  14.6,\n",
       "  14.6,\n",
       "  14.6,\n",
       "  14.6,\n",
       "  16.2,\n",
       "  16.3]]"
      ]
     },
     "execution_count": 32,
     "metadata": {},
     "output_type": "execute_result"
    }
   ],
   "source": [
    "y = CGMDf[CGMDf.series_id==SeriesSample[2]].ValueMMOL.to_list()\n",
    "ab = []\n",
    "ab.append(y)\n",
    "t1 = y[:len(y)//2]\n",
    "t2 = y[len(y)//2:]\n",
    "ab.append(t1)\n",
    "ab.append(t2)\n",
    "ab"
   ]
  },
  {
   "cell_type": "code",
   "execution_count": 34,
   "metadata": {},
   "outputs": [
    {
     "name": "stderr",
     "output_type": "stream",
     "text": [
      "No artists with labels found to put in legend.  Note that artists whose label start with an underscore are ignored when legend() is called with no argument.\n"
     ]
    },
    {
     "data": {
      "image/png": "[encoded data removed]",
      "text/plain": [
       "<Figure size 1120x800 with 1 Axes>"
      ]
     },
     "metadata": {},
     "output_type": "display_data"
    }
   ],
   "source": [
    "y = CGMDf[CGMDf.series_id==SeriesSample[2]].ValueMMOL.to_list()\n",
    "plt.style.use('classic')\n",
    "plt.figure(figsize=(14,10))\n",
    "plt.boxplot(ab)\n",
    "plt.xlabel('Time of day samples')\n",
    "plt.ylabel('Readings in MMOL/L')\n",
    "plt.title('Individual Series evaluation, Full Series, First Half of Day, Second Half of Day',color='black')\n",
    "plt.legend()\n",
    "plt.show()\n",
    "#plt.clf()"
   ]
  },
  {
   "cell_type": "markdown",
   "metadata": {},
   "source": [
    "### Ideas\n",
    "\n",
    "Glucose\n",
    "Average Glucose by person\n",
    "min and max per person\n",
    "\n",
    "Series stats\n",
    "Series length\n",
    "Series Min and Max\n",
    "\n"
   ]
  }
 ],
 "metadata": {
  "interpreter": {
   "hash": "33a4eb190a92b8893ca76062e2d07ed51e6f44f0cea0d0fca300e97f94ad9939"
  },
  "kernelspec": {
   "display_name": "Python 3.9.10 ('base')",
   "language": "python",
   "name": "python3"
  },
  "language_info": {
   "codemirror_mode": {
    "name": "ipython",
    "version": 3
   },
   "file_extension": ".py",
   "mimetype": "text/x-python",
   "name": "python",
   "nbconvert_exporter": "python",
   "pygments_lexer": "ipython3",
   "version": "3.9.10"
  },
  "orig_nbformat": 4,
  "vscode": {
   "interpreter": {
    "hash": "e7c2045393b2e3298fba416c7980a67b423cc5ff7d51bff314d8a0df9b998066"
   }
  }
 },
 "nbformat": 4,
 "nbformat_minor": 2
}
