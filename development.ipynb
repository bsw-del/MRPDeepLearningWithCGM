{
 "cells": [
  {
   "cell_type": "code",
   "execution_count": 3,
   "metadata": {},
   "outputs": [],
   "source": [
    "from dataprep import *\n",
    "import pandas as pd\n",
    "import numpy as np\n"
   ]
  },
  {
   "cell_type": "code",
   "execution_count": 2,
   "metadata": {},
   "outputs": [],
   "source": [
    "## Process data and create initial dataFrame\n",
    "cgm_data = DataCleaning()"
   ]
  },
  {
   "cell_type": "code",
   "execution_count": 3,
   "metadata": {},
   "outputs": [
    {
     "name": "stdout",
     "output_type": "stream",
     "text": [
      "Warning - This function will take a while to complete as it is creating sequences based on multiple variables in the data file. Please be patient.\n"
     ]
    }
   ],
   "source": [
    "## Only run the below if you want to rebuild your data file - due to the size of the source this can take up to an hour to run\n",
    "#cgm_data.resequenceData(size=3)"
   ]
  },
  {
   "cell_type": "code",
   "execution_count": null,
   "metadata": {},
   "outputs": [],
   "source": [
    "'''\n",
    "List of things to build out during EDA\n",
    "\n",
    "\n",
    "\n",
    "\n",
    "'''"
   ]
  },
  {
   "cell_type": "code",
   "execution_count": 14,
   "metadata": {},
   "outputs": [
    {
     "data": {
      "text/plain": [
       "Unnamed: 0.1                   int64\n",
       "index                          int64\n",
       "Unnamed: 0                     int64\n",
       "RecID                          int64\n",
       "PtID                           int64\n",
       "ParentCITYDeviceUploadsID      int64\n",
       "DeviceDtTm                    object\n",
       "RecordType                    object\n",
       "Value                        float64\n",
       "Units                         object\n",
       "SortOrd                      float64\n",
       "ValueMMOL                    float64\n",
       "DDate                         object\n",
       "hourOfDay                      int64\n",
       "series                          bool\n",
       "series_id                      int64\n",
       "dtype: object"
      ]
     },
     "execution_count": 14,
     "metadata": {},
     "output_type": "execute_result"
    }
   ],
   "source": [
    "## load dataframe from cleaned data\n",
    "CGMDf = pd.read_csv('/Users/bsw/Documents/MRPLocal/DATA/CGM_Processed.csv')\n",
    "\n",
    "CGMDf.head()\n",
    "\n"
   ]
  },
  {
   "cell_type": "code",
   "execution_count": 15,
   "metadata": {},
   "outputs": [],
   "source": [
    "## drop unnecessary columns to save on space / compute\n",
    "CGMDf.drop(['Unnamed: 0.1','index','Unnamed: 0','RecordType','Value'], inplace=True, axis=1)\n",
    "\n",
    "## cleaning up the data\n",
    "CGMDf['DDate']=pd.to_datetime(CGMDf['DDate'])\n",
    "CGMDf['DeviceDtTm']=pd.to_datetime(CGMDf['DeviceDtTm'])\n",
    "CGMDf.SortOrd=CGMDf.SortOrd.astype(int)\n"
   ]
  },
  {
   "cell_type": "code",
   "execution_count": 27,
   "metadata": {},
   "outputs": [
    {
     "data": {
      "text/html": [
       "<div>\n",
       "<style scoped>\n",
       "    .dataframe tbody tr th:only-of-type {\n",
       "        vertical-align: middle;\n",
       "    }\n",
       "\n",
       "    .dataframe tbody tr th {\n",
       "        vertical-align: top;\n",
       "    }\n",
       "\n",
       "    .dataframe thead th {\n",
       "        text-align: right;\n",
       "    }\n",
       "</style>\n",
       "<table border=\"1\" class=\"dataframe\">\n",
       "  <thead>\n",
       "    <tr style=\"text-align: right;\">\n",
       "      <th></th>\n",
       "      <th>RecID</th>\n",
       "      <th>PtID</th>\n",
       "      <th>ParentCITYDeviceUploadsID</th>\n",
       "      <th>DeviceDtTm</th>\n",
       "      <th>Units</th>\n",
       "      <th>SortOrd</th>\n",
       "      <th>ValueMMOL</th>\n",
       "      <th>DDate</th>\n",
       "      <th>hourOfDay</th>\n",
       "      <th>series</th>\n",
       "      <th>series_id</th>\n",
       "    </tr>\n",
       "  </thead>\n",
       "  <tbody>\n",
       "    <tr>\n",
       "      <th>0</th>\n",
       "      <td>1539485</td>\n",
       "      <td>39</td>\n",
       "      <td>651</td>\n",
       "      <td>2000-04-21 04:31:56</td>\n",
       "      <td>mg/dL</td>\n",
       "      <td>7880</td>\n",
       "      <td>7.5</td>\n",
       "      <td>2000-04-21</td>\n",
       "      <td>4</td>\n",
       "      <td>False</td>\n",
       "      <td>73331</td>\n",
       "    </tr>\n",
       "    <tr>\n",
       "      <th>1</th>\n",
       "      <td>1539486</td>\n",
       "      <td>39</td>\n",
       "      <td>651</td>\n",
       "      <td>2000-04-21 04:36:55</td>\n",
       "      <td>mg/dL</td>\n",
       "      <td>7881</td>\n",
       "      <td>7.4</td>\n",
       "      <td>2000-04-21</td>\n",
       "      <td>4</td>\n",
       "      <td>False</td>\n",
       "      <td>73331</td>\n",
       "    </tr>\n",
       "    <tr>\n",
       "      <th>2</th>\n",
       "      <td>1539487</td>\n",
       "      <td>39</td>\n",
       "      <td>651</td>\n",
       "      <td>2000-04-21 04:41:55</td>\n",
       "      <td>mg/dL</td>\n",
       "      <td>7882</td>\n",
       "      <td>7.4</td>\n",
       "      <td>2000-04-21</td>\n",
       "      <td>4</td>\n",
       "      <td>False</td>\n",
       "      <td>73331</td>\n",
       "    </tr>\n",
       "    <tr>\n",
       "      <th>3</th>\n",
       "      <td>1539488</td>\n",
       "      <td>39</td>\n",
       "      <td>651</td>\n",
       "      <td>2000-04-21 04:46:56</td>\n",
       "      <td>mg/dL</td>\n",
       "      <td>7883</td>\n",
       "      <td>7.4</td>\n",
       "      <td>2000-04-21</td>\n",
       "      <td>4</td>\n",
       "      <td>False</td>\n",
       "      <td>73331</td>\n",
       "    </tr>\n",
       "    <tr>\n",
       "      <th>4</th>\n",
       "      <td>1539489</td>\n",
       "      <td>39</td>\n",
       "      <td>651</td>\n",
       "      <td>2000-04-21 04:51:56</td>\n",
       "      <td>mg/dL</td>\n",
       "      <td>7884</td>\n",
       "      <td>7.4</td>\n",
       "      <td>2000-04-21</td>\n",
       "      <td>4</td>\n",
       "      <td>False</td>\n",
       "      <td>73331</td>\n",
       "    </tr>\n",
       "  </tbody>\n",
       "</table>\n",
       "</div>"
      ],
      "text/plain": [
       "     RecID  PtID  ParentCITYDeviceUploadsID          DeviceDtTm  Units  \\\n",
       "0  1539485    39                        651 2000-04-21 04:31:56  mg/dL   \n",
       "1  1539486    39                        651 2000-04-21 04:36:55  mg/dL   \n",
       "2  1539487    39                        651 2000-04-21 04:41:55  mg/dL   \n",
       "3  1539488    39                        651 2000-04-21 04:46:56  mg/dL   \n",
       "4  1539489    39                        651 2000-04-21 04:51:56  mg/dL   \n",
       "\n",
       "   SortOrd  ValueMMOL      DDate  hourOfDay  series  series_id  \n",
       "0     7880        7.5 2000-04-21          4   False      73331  \n",
       "1     7881        7.4 2000-04-21          4   False      73331  \n",
       "2     7882        7.4 2000-04-21          4   False      73331  \n",
       "3     7883        7.4 2000-04-21          4   False      73331  \n",
       "4     7884        7.4 2000-04-21          4   False      73331  "
      ]
     },
     "execution_count": 27,
     "metadata": {},
     "output_type": "execute_result"
    }
   ],
   "source": [
    "CGMDf.head()"
   ]
  },
  {
   "cell_type": "code",
   "execution_count": 23,
   "metadata": {},
   "outputs": [
    {
     "data": {
      "text/plain": [
       "RecID                                 int64\n",
       "PtID                                  int64\n",
       "ParentCITYDeviceUploadsID             int64\n",
       "DeviceDtTm                   datetime64[ns]\n",
       "Units                                object\n",
       "SortOrd                               int64\n",
       "ValueMMOL                           float64\n",
       "DDate                        datetime64[ns]\n",
       "hourOfDay                             int64\n",
       "series                                 bool\n",
       "series_id                             int64\n",
       "dtype: object"
      ]
     },
     "execution_count": 23,
     "metadata": {},
     "output_type": "execute_result"
    }
   ],
   "source": [
    "CGMDf.dtypes"
   ]
  },
  {
   "cell_type": "code",
   "execution_count": 26,
   "metadata": {},
   "outputs": [
    {
     "data": {
      "text/plain": [
       "PtID  series_id\n",
       "1     75469         43\n",
       "      75470          6\n",
       "      75471         32\n",
       "      75472         42\n",
       "      75473         21\n",
       "                  ... \n",
       "184   108518        39\n",
       "      108519         2\n",
       "      108520         2\n",
       "      108521       107\n",
       "      108522       209\n",
       "Name: RecID, Length: 35561, dtype: int64"
      ]
     },
     "execution_count": 26,
     "metadata": {},
     "output_type": "execute_result"
    }
   ],
   "source": [
    "CGMDf.groupby(['PtID','series_id'])['RecID'].count()"
   ]
  },
  {
   "cell_type": "code",
   "execution_count": null,
   "metadata": {},
   "outputs": [],
   "source": []
  }
 ],
 "metadata": {
  "interpreter": {
   "hash": "33a4eb190a92b8893ca76062e2d07ed51e6f44f0cea0d0fca300e97f94ad9939"
  },
  "kernelspec": {
   "display_name": "Python 3.9.10 ('base')",
   "language": "python",
   "name": "python3"
  },
  "language_info": {
   "codemirror_mode": {
    "name": "ipython",
    "version": 3
   },
   "file_extension": ".py",
   "mimetype": "text/x-python",
   "name": "python",
   "nbconvert_exporter": "python",
   "pygments_lexer": "ipython3",
   "version": "3.9.10"
  },
  "orig_nbformat": 4
 },
 "nbformat": 4,
 "nbformat_minor": 2
}
