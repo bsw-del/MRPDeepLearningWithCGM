{
 "cells": [
  {
   "cell_type": "code",
   "execution_count": 26,
   "metadata": {},
   "outputs": [],
   "source": [
    "from dataprep import *"
   ]
  },
  {
   "cell_type": "code",
   "execution_count": 25,
   "metadata": {},
   "outputs": [
    {
     "ename": "NameError",
     "evalue": "name 'DataCleaning' is not defined",
     "output_type": "error",
     "traceback": [
      "\u001b[0;31m---------------------------------------------------------------------------\u001b[0m",
      "\u001b[0;31mNameError\u001b[0m                                 Traceback (most recent call last)",
      "\u001b[1;32m/Users/bsw/Documents/MRPLocal/CODE/MRPDeepLearningWithCGM/development.ipynb Cell 2'\u001b[0m in \u001b[0;36m<cell line: 2>\u001b[0;34m()\u001b[0m\n\u001b[1;32m      <a href='vscode-notebook-cell:/Users/bsw/Documents/MRPLocal/CODE/MRPDeepLearningWithCGM/development.ipynb#ch0000001?line=0'>1</a>\u001b[0m \u001b[39m## Process data and create initial dataFrame\u001b[39;00m\n\u001b[0;32m----> <a href='vscode-notebook-cell:/Users/bsw/Documents/MRPLocal/CODE/MRPDeepLearningWithCGM/development.ipynb#ch0000001?line=1'>2</a>\u001b[0m cgm_data \u001b[39m=\u001b[39m DataCleaning()\n",
      "\u001b[0;31mNameError\u001b[0m: name 'DataCleaning' is not defined"
     ]
    }
   ],
   "source": [
    "## Process data and create initial dataFrame\n",
    "cgm_data = DataCleaning()"
   ]
  },
  {
   "cell_type": "code",
   "execution_count": null,
   "metadata": {},
   "outputs": [],
   "source": []
  }
 ],
 "metadata": {
  "interpreter": {
   "hash": "33a4eb190a92b8893ca76062e2d07ed51e6f44f0cea0d0fca300e97f94ad9939"
  },
  "kernelspec": {
   "display_name": "Python 3.9.10 ('base')",
   "language": "python",
   "name": "python3"
  },
  "language_info": {
   "codemirror_mode": {
    "name": "ipython",
    "version": 3
   },
   "file_extension": ".py",
   "mimetype": "text/x-python",
   "name": "python",
   "nbconvert_exporter": "python",
   "pygments_lexer": "ipython3",
   "version": "3.9.10"
  },
  "orig_nbformat": 4
 },
 "nbformat": 4,
 "nbformat_minor": 2
}
