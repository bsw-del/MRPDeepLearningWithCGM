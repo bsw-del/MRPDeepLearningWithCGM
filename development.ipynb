{
 "cells": [
  {
   "cell_type": "code",
   "execution_count": 3,
   "metadata": {},
   "outputs": [],
   "source": [
    "from dataprep import *\n",
    "import pandas as pd\n",
    "import numpy as np\n"
   ]
  },
  {
   "cell_type": "code",
   "execution_count": 2,
   "metadata": {},
   "outputs": [],
   "source": [
    "## Process data and create initial dataFrame\n",
    "cgm_data = DataCleaning()"
   ]
  },
  {
   "cell_type": "code",
   "execution_count": 3,
   "metadata": {},
   "outputs": [
    {
     "name": "stdout",
     "output_type": "stream",
     "text": [
      "Warning - This function will take a while to complete as it is creating sequences based on multiple variables in the data file. Please be patient.\n"
     ]
    }
   ],
   "source": [
    "## Only run the below if you want to rebuild your data file - due to the size of the source this can take up to an hour to run\n",
    "#cgm_data.resequenceData(size=3)"
   ]
  },
  {
   "cell_type": "markdown",
   "metadata": {},
   "source": [
    "## EDA for Project Section"
   ]
  },
  {
   "cell_type": "code",
   "execution_count": 14,
   "metadata": {},
   "outputs": [
    {
     "data": {
      "text/plain": [
       "Unnamed: 0.1                   int64\n",
       "index                          int64\n",
       "Unnamed: 0                     int64\n",
       "RecID                          int64\n",
       "PtID                           int64\n",
       "ParentCITYDeviceUploadsID      int64\n",
       "DeviceDtTm                    object\n",
       "RecordType                    object\n",
       "Value                        float64\n",
       "Units                         object\n",
       "SortOrd                      float64\n",
       "ValueMMOL                    float64\n",
       "DDate                         object\n",
       "hourOfDay                      int64\n",
       "series                          bool\n",
       "series_id                      int64\n",
       "dtype: object"
      ]
     },
     "execution_count": 14,
     "metadata": {},
     "output_type": "execute_result"
    }
   ],
   "source": [
    "## load dataframe from cleaned data\n",
    "CGMDf = pd.read_csv('/Users/bsw/Documents/MRPLocal/DATA/CGM_Processed.csv')\n",
    "CGMDf.head()"
   ]
  },
  {
   "cell_type": "markdown",
   "metadata": {},
   "source": [
    "### Cleaning up data for simplicity"
   ]
  },
  {
   "cell_type": "code",
   "execution_count": 15,
   "metadata": {},
   "outputs": [],
   "source": [
    "\n",
    "## drop unnecessary columns to save on space / compute\n",
    "CGMDf.drop(['Unnamed: 0.1','index','Unnamed: 0','RecordType','Value'], inplace=True, axis=1)\n",
    "\n",
    "## cleaning up the data\n",
    "CGMDf['DDate']=pd.to_datetime(CGMDf['DDate'])\n",
    "CGMDf['DeviceDtTm']=pd.to_datetime(CGMDf['DeviceDtTm'])\n",
    "CGMDf.SortOrd=CGMDf.SortOrd.astype(int)\n"
   ]
  },
  {
   "cell_type": "code",
   "execution_count": 27,
   "metadata": {},
   "outputs": [
    {
     "data": {
      "text/html": [
       "<div>\n",
       "<style scoped>\n",
       "    .dataframe tbody tr th:only-of-type {\n",
       "        vertical-align: middle;\n",
       "    }\n",
       "\n",
       "    .dataframe tbody tr th {\n",
       "        vertical-align: top;\n",
       "    }\n",
       "\n",
       "    .dataframe thead th {\n",
       "        text-align: right;\n",
       "    }\n",
       "</style>\n",
       "<table border=\"1\" class=\"dataframe\">\n",
       "  <thead>\n",
       "    <tr style=\"text-align: right;\">\n",
       "      <th></th>\n",
       "      <th>RecID</th>\n",
       "      <th>PtID</th>\n",
       "      <th>ParentCITYDeviceUploadsID</th>\n",
       "      <th>DeviceDtTm</th>\n",
       "      <th>Units</th>\n",
       "      <th>SortOrd</th>\n",
       "      <th>ValueMMOL</th>\n",
       "      <th>DDate</th>\n",
       "      <th>hourOfDay</th>\n",
       "      <th>series</th>\n",
       "      <th>series_id</th>\n",
       "    </tr>\n",
       "  </thead>\n",
       "  <tbody>\n",
       "    <tr>\n",
       "      <th>0</th>\n",
       "      <td>1539485</td>\n",
       "      <td>39</td>\n",
       "      <td>651</td>\n",
       "      <td>2000-04-21 04:31:56</td>\n",
       "      <td>mg/dL</td>\n",
       "      <td>7880</td>\n",
       "      <td>7.5</td>\n",
       "      <td>2000-04-21</td>\n",
       "      <td>4</td>\n",
       "      <td>False</td>\n",
       "      <td>73331</td>\n",
       "    </tr>\n",
       "    <tr>\n",
       "      <th>1</th>\n",
       "      <td>1539486</td>\n",
       "      <td>39</td>\n",
       "      <td>651</td>\n",
       "      <td>2000-04-21 04:36:55</td>\n",
       "      <td>mg/dL</td>\n",
       "      <td>7881</td>\n",
       "      <td>7.4</td>\n",
       "      <td>2000-04-21</td>\n",
       "      <td>4</td>\n",
       "      <td>False</td>\n",
       "      <td>73331</td>\n",
       "    </tr>\n",
       "    <tr>\n",
       "      <th>2</th>\n",
       "      <td>1539487</td>\n",
       "      <td>39</td>\n",
       "      <td>651</td>\n",
       "      <td>2000-04-21 04:41:55</td>\n",
       "      <td>mg/dL</td>\n",
       "      <td>7882</td>\n",
       "      <td>7.4</td>\n",
       "      <td>2000-04-21</td>\n",
       "      <td>4</td>\n",
       "      <td>False</td>\n",
       "      <td>73331</td>\n",
       "    </tr>\n",
       "    <tr>\n",
       "      <th>3</th>\n",
       "      <td>1539488</td>\n",
       "      <td>39</td>\n",
       "      <td>651</td>\n",
       "      <td>2000-04-21 04:46:56</td>\n",
       "      <td>mg/dL</td>\n",
       "      <td>7883</td>\n",
       "      <td>7.4</td>\n",
       "      <td>2000-04-21</td>\n",
       "      <td>4</td>\n",
       "      <td>False</td>\n",
       "      <td>73331</td>\n",
       "    </tr>\n",
       "    <tr>\n",
       "      <th>4</th>\n",
       "      <td>1539489</td>\n",
       "      <td>39</td>\n",
       "      <td>651</td>\n",
       "      <td>2000-04-21 04:51:56</td>\n",
       "      <td>mg/dL</td>\n",
       "      <td>7884</td>\n",
       "      <td>7.4</td>\n",
       "      <td>2000-04-21</td>\n",
       "      <td>4</td>\n",
       "      <td>False</td>\n",
       "      <td>73331</td>\n",
       "    </tr>\n",
       "  </tbody>\n",
       "</table>\n",
       "</div>"
      ],
      "text/plain": [
       "     RecID  PtID  ParentCITYDeviceUploadsID          DeviceDtTm  Units  \\\n",
       "0  1539485    39                        651 2000-04-21 04:31:56  mg/dL   \n",
       "1  1539486    39                        651 2000-04-21 04:36:55  mg/dL   \n",
       "2  1539487    39                        651 2000-04-21 04:41:55  mg/dL   \n",
       "3  1539488    39                        651 2000-04-21 04:46:56  mg/dL   \n",
       "4  1539489    39                        651 2000-04-21 04:51:56  mg/dL   \n",
       "\n",
       "   SortOrd  ValueMMOL      DDate  hourOfDay  series  series_id  \n",
       "0     7880        7.5 2000-04-21          4   False      73331  \n",
       "1     7881        7.4 2000-04-21          4   False      73331  \n",
       "2     7882        7.4 2000-04-21          4   False      73331  \n",
       "3     7883        7.4 2000-04-21          4   False      73331  \n",
       "4     7884        7.4 2000-04-21          4   False      73331  "
      ]
     },
     "execution_count": 27,
     "metadata": {},
     "output_type": "execute_result"
    }
   ],
   "source": [
    "CGMDf.head()"
   ]
  },
  {
   "cell_type": "code",
   "execution_count": 35,
   "metadata": {},
   "outputs": [
    {
     "data": {
      "text/plain": [
       "2073853"
      ]
     },
     "execution_count": 35,
     "metadata": {},
     "output_type": "execute_result"
    }
   ],
   "source": [
    "## total size of sampled file\n",
    "CGMDf.shape[0]"
   ]
  },
  {
   "cell_type": "code",
   "execution_count": 23,
   "metadata": {},
   "outputs": [
    {
     "data": {
      "text/plain": [
       "RecID                                 int64\n",
       "PtID                                  int64\n",
       "ParentCITYDeviceUploadsID             int64\n",
       "DeviceDtTm                   datetime64[ns]\n",
       "Units                                object\n",
       "SortOrd                               int64\n",
       "ValueMMOL                           float64\n",
       "DDate                        datetime64[ns]\n",
       "hourOfDay                             int64\n",
       "series                                 bool\n",
       "series_id                             int64\n",
       "dtype: object"
      ]
     },
     "execution_count": 23,
     "metadata": {},
     "output_type": "execute_result"
    }
   ],
   "source": [
    "CGMDf.dtypes"
   ]
  },
  {
   "cell_type": "code",
   "execution_count": 33,
   "metadata": {},
   "outputs": [],
   "source": [
    "## Create a Dictionary of statistics for summary\n",
    "ptStats = {} ## stat dictionary\n",
    "ptStats['number_of_people']=CGMDf.groupby(['PtID'])['RecID'].count().shape[0] ## number of people in the file\n",
    "\n",
    "\n"
   ]
  },
  {
   "cell_type": "code",
   "execution_count": 63,
   "metadata": {},
   "outputs": [
    {
     "data": {
      "text/html": [
       "<div>\n",
       "<style scoped>\n",
       "    .dataframe tbody tr th:only-of-type {\n",
       "        vertical-align: middle;\n",
       "    }\n",
       "\n",
       "    .dataframe tbody tr th {\n",
       "        vertical-align: top;\n",
       "    }\n",
       "\n",
       "    .dataframe thead th {\n",
       "        text-align: right;\n",
       "    }\n",
       "</style>\n",
       "<table border=\"1\" class=\"dataframe\">\n",
       "  <thead>\n",
       "    <tr style=\"text-align: right;\">\n",
       "      <th></th>\n",
       "      <th></th>\n",
       "      <th>RecID</th>\n",
       "    </tr>\n",
       "    <tr>\n",
       "      <th>PtID</th>\n",
       "      <th>series_id</th>\n",
       "      <th></th>\n",
       "    </tr>\n",
       "  </thead>\n",
       "  <tbody>\n",
       "    <tr>\n",
       "      <th rowspan=\"5\" valign=\"top\">1</th>\n",
       "      <th>75470</th>\n",
       "      <td>6</td>\n",
       "    </tr>\n",
       "    <tr>\n",
       "      <th>75476</th>\n",
       "      <td>9</td>\n",
       "    </tr>\n",
       "    <tr>\n",
       "      <th>75477</th>\n",
       "      <td>10</td>\n",
       "    </tr>\n",
       "    <tr>\n",
       "      <th>75480</th>\n",
       "      <td>6</td>\n",
       "    </tr>\n",
       "    <tr>\n",
       "      <th>75482</th>\n",
       "      <td>1</td>\n",
       "    </tr>\n",
       "    <tr>\n",
       "      <th>...</th>\n",
       "      <th>...</th>\n",
       "      <td>...</td>\n",
       "    </tr>\n",
       "    <tr>\n",
       "      <th rowspan=\"5\" valign=\"top\">184</th>\n",
       "      <th>108509</th>\n",
       "      <td>4</td>\n",
       "    </tr>\n",
       "    <tr>\n",
       "      <th>108511</th>\n",
       "      <td>1</td>\n",
       "    </tr>\n",
       "    <tr>\n",
       "      <th>108516</th>\n",
       "      <td>2</td>\n",
       "    </tr>\n",
       "    <tr>\n",
       "      <th>108519</th>\n",
       "      <td>2</td>\n",
       "    </tr>\n",
       "    <tr>\n",
       "      <th>108520</th>\n",
       "      <td>2</td>\n",
       "    </tr>\n",
       "  </tbody>\n",
       "</table>\n",
       "<p>13201 rows × 1 columns</p>\n",
       "</div>"
      ],
      "text/plain": [
       "                RecID\n",
       "PtID series_id       \n",
       "1    75470          6\n",
       "     75476          9\n",
       "     75477         10\n",
       "     75480          6\n",
       "     75482          1\n",
       "...               ...\n",
       "184  108509         4\n",
       "     108511         1\n",
       "     108516         2\n",
       "     108519         2\n",
       "     108520         2\n",
       "\n",
       "[13201 rows x 1 columns]"
      ]
     },
     "execution_count": 63,
     "metadata": {},
     "output_type": "execute_result"
    }
   ],
   "source": [
    "grpPTandSeries = pd.DataFrame(CGMDf.groupby(['PtID','series_id'])['RecID'].count()) ## number of people in the file\n",
    "grpPTandSeries[grpPTandSeries['RecID']<=10]\n",
    "\n",
    "## Remove the sequences less than 10, they will be useless, create stats based on that."
   ]
  },
  {
   "cell_type": "code",
   "execution_count": 62,
   "metadata": {},
   "outputs": [
    {
     "data": {
      "text/plain": [
       "array([[<AxesSubplot:title={'center':'RecID'}>]], dtype=object)"
      ]
     },
     "execution_count": 62,
     "metadata": {},
     "output_type": "execute_result"
    },
    {
     "data": {
      "image/png": "[encoded data removed]",
      "text/plain": [
       "<Figure size 864x576 with 1 Axes>"
      ]
     },
     "metadata": {},
     "output_type": "display_data"
    }
   ],
   "source": [
    "grpPTandSeries[grpPTandSeries['RecID'].between(0,800)].hist(bins=150,figsize=(12,8), grid=False)"
   ]
  },
  {
   "cell_type": "code",
   "execution_count": 29,
   "metadata": {},
   "outputs": [
    {
     "data": {
      "text/plain": [
       "58276"
      ]
     },
     "execution_count": 29,
     "metadata": {},
     "output_type": "execute_result"
    }
   ],
   "source": [
    "CGMDf.groupby(['PtID'])['RecID'].count().max()\n",
    "\n",
    "#CGMDf.groupby(['PtID','series_id'])['RecID'].count()"
   ]
  },
  {
   "cell_type": "code",
   "execution_count": null,
   "metadata": {},
   "outputs": [],
   "source": []
  }
 ],
 "metadata": {
  "interpreter": {
   "hash": "33a4eb190a92b8893ca76062e2d07ed51e6f44f0cea0d0fca300e97f94ad9939"
  },
  "kernelspec": {
   "display_name": "Python 3.9.10 ('base')",
   "language": "python",
   "name": "python3"
  },
  "language_info": {
   "codemirror_mode": {
    "name": "ipython",
    "version": 3
   },
   "file_extension": ".py",
   "mimetype": "text/x-python",
   "name": "python",
   "nbconvert_exporter": "python",
   "pygments_lexer": "ipython3",
   "version": "3.9.10"
  },
  "orig_nbformat": 4
 },
 "nbformat": 4,
 "nbformat_minor": 2
}
