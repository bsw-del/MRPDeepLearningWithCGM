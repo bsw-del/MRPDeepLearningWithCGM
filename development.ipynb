{
 "cells": [
  {
   "cell_type": "code",
   "execution_count": 139,
   "metadata": {},
   "outputs": [],
   "source": [
    "from dataprep import *\n",
    "import pandas as pd\n",
    "import numpy as np\n",
    "import matplotlib.pyplot as pyplot"
   ]
  },
  {
   "cell_type": "code",
   "execution_count": 2,
   "metadata": {},
   "outputs": [],
   "source": [
    "## Process data and create initial dataFrame\n",
    "cgm_data = DataCleaning()"
   ]
  },
  {
   "cell_type": "code",
   "execution_count": 3,
   "metadata": {},
   "outputs": [
    {
     "name": "stdout",
     "output_type": "stream",
     "text": [
      "Warning - This function will take a while to complete as it is creating sequences based on multiple variables in the data file. Please be patient.\n"
     ]
    }
   ],
   "source": [
    "## Only run the below if you want to rebuild your data file - due to the size of the source this can take up to an hour to run\n",
    "#cgm_data.resequenceData(size=3)"
   ]
  },
  {
   "cell_type": "markdown",
   "metadata": {},
   "source": [
    "## EDA for Project Section"
   ]
  },
  {
   "cell_type": "code",
   "execution_count": 14,
   "metadata": {},
   "outputs": [
    {
     "data": {
      "text/plain": [
       "Unnamed: 0.1                   int64\n",
       "index                          int64\n",
       "Unnamed: 0                     int64\n",
       "RecID                          int64\n",
       "PtID                           int64\n",
       "ParentCITYDeviceUploadsID      int64\n",
       "DeviceDtTm                    object\n",
       "RecordType                    object\n",
       "Value                        float64\n",
       "Units                         object\n",
       "SortOrd                      float64\n",
       "ValueMMOL                    float64\n",
       "DDate                         object\n",
       "hourOfDay                      int64\n",
       "series                          bool\n",
       "series_id                      int64\n",
       "dtype: object"
      ]
     },
     "execution_count": 14,
     "metadata": {},
     "output_type": "execute_result"
    }
   ],
   "source": [
    "## load dataframe from cleaned data\n",
    "CGMDf = pd.read_csv('/Users/bsw/Documents/MRPLocal/DATA/CGM_Processed.csv')\n",
    "CGMDf.head()"
   ]
  },
  {
   "cell_type": "markdown",
   "metadata": {},
   "source": [
    "### Cleaning up data for simplicity"
   ]
  },
  {
   "cell_type": "code",
   "execution_count": 15,
   "metadata": {},
   "outputs": [],
   "source": [
    "\n",
    "## drop unnecessary columns to save on space / compute\n",
    "CGMDf.drop(['Unnamed: 0.1','index','Unnamed: 0','RecordType','Value'], inplace=True, axis=1)\n",
    "\n",
    "## cleaning up the data -- Resetting data types\n",
    "CGMDf['DDate']=pd.to_datetime(CGMDf['DDate'])\n",
    "CGMDf['DeviceDtTm']=pd.to_datetime(CGMDf['DeviceDtTm'])\n",
    "CGMDf.SortOrd=CGMDf.SortOrd.astype(int)\n",
    "\n",
    "## cleaning data - removing series where not enough samples to learn / predict\n",
    "a=pd.DataFrame(CGMDf.groupby(['PtID','series_id'])['RecID'].count())\n",
    "a.reset_index(inplace=True)\n",
    "CGMDf = CGMDf[~CGMDf.series_id.isin(a.series_id[a.RecID<=25].to_list())] ## Remove series where there will be no ability to forecast more than 5 datapoints\n",
    "CGMDf.shape[0]\n",
    "## 1 950 448 -- samples remaining\n"
   ]
  },
  {
   "cell_type": "code",
   "execution_count": 101,
   "metadata": {},
   "outputs": [
    {
     "data": {
      "text/html": [
       "<div>\n",
       "<style scoped>\n",
       "    .dataframe tbody tr th:only-of-type {\n",
       "        vertical-align: middle;\n",
       "    }\n",
       "\n",
       "    .dataframe tbody tr th {\n",
       "        vertical-align: top;\n",
       "    }\n",
       "\n",
       "    .dataframe thead th {\n",
       "        text-align: right;\n",
       "    }\n",
       "</style>\n",
       "<table border=\"1\" class=\"dataframe\">\n",
       "  <thead>\n",
       "    <tr style=\"text-align: right;\">\n",
       "      <th></th>\n",
       "      <th>RecID</th>\n",
       "      <th>PtID</th>\n",
       "      <th>ParentCITYDeviceUploadsID</th>\n",
       "      <th>DeviceDtTm</th>\n",
       "      <th>Units</th>\n",
       "      <th>SortOrd</th>\n",
       "      <th>ValueMMOL</th>\n",
       "      <th>DDate</th>\n",
       "      <th>hourOfDay</th>\n",
       "      <th>series</th>\n",
       "      <th>series_id</th>\n",
       "    </tr>\n",
       "  </thead>\n",
       "  <tbody>\n",
       "    <tr>\n",
       "      <th>0</th>\n",
       "      <td>1539485</td>\n",
       "      <td>39</td>\n",
       "      <td>651</td>\n",
       "      <td>2000-04-21 04:31:56</td>\n",
       "      <td>mg/dL</td>\n",
       "      <td>7880</td>\n",
       "      <td>7.5</td>\n",
       "      <td>2000-04-21</td>\n",
       "      <td>4</td>\n",
       "      <td>False</td>\n",
       "      <td>73331</td>\n",
       "    </tr>\n",
       "    <tr>\n",
       "      <th>1</th>\n",
       "      <td>1539486</td>\n",
       "      <td>39</td>\n",
       "      <td>651</td>\n",
       "      <td>2000-04-21 04:36:55</td>\n",
       "      <td>mg/dL</td>\n",
       "      <td>7881</td>\n",
       "      <td>7.4</td>\n",
       "      <td>2000-04-21</td>\n",
       "      <td>4</td>\n",
       "      <td>False</td>\n",
       "      <td>73331</td>\n",
       "    </tr>\n",
       "    <tr>\n",
       "      <th>2</th>\n",
       "      <td>1539487</td>\n",
       "      <td>39</td>\n",
       "      <td>651</td>\n",
       "      <td>2000-04-21 04:41:55</td>\n",
       "      <td>mg/dL</td>\n",
       "      <td>7882</td>\n",
       "      <td>7.4</td>\n",
       "      <td>2000-04-21</td>\n",
       "      <td>4</td>\n",
       "      <td>False</td>\n",
       "      <td>73331</td>\n",
       "    </tr>\n",
       "    <tr>\n",
       "      <th>3</th>\n",
       "      <td>1539488</td>\n",
       "      <td>39</td>\n",
       "      <td>651</td>\n",
       "      <td>2000-04-21 04:46:56</td>\n",
       "      <td>mg/dL</td>\n",
       "      <td>7883</td>\n",
       "      <td>7.4</td>\n",
       "      <td>2000-04-21</td>\n",
       "      <td>4</td>\n",
       "      <td>False</td>\n",
       "      <td>73331</td>\n",
       "    </tr>\n",
       "    <tr>\n",
       "      <th>4</th>\n",
       "      <td>1539489</td>\n",
       "      <td>39</td>\n",
       "      <td>651</td>\n",
       "      <td>2000-04-21 04:51:56</td>\n",
       "      <td>mg/dL</td>\n",
       "      <td>7884</td>\n",
       "      <td>7.4</td>\n",
       "      <td>2000-04-21</td>\n",
       "      <td>4</td>\n",
       "      <td>False</td>\n",
       "      <td>73331</td>\n",
       "    </tr>\n",
       "  </tbody>\n",
       "</table>\n",
       "</div>"
      ],
      "text/plain": [
       "     RecID  PtID  ParentCITYDeviceUploadsID          DeviceDtTm  Units  \\\n",
       "0  1539485    39                        651 2000-04-21 04:31:56  mg/dL   \n",
       "1  1539486    39                        651 2000-04-21 04:36:55  mg/dL   \n",
       "2  1539487    39                        651 2000-04-21 04:41:55  mg/dL   \n",
       "3  1539488    39                        651 2000-04-21 04:46:56  mg/dL   \n",
       "4  1539489    39                        651 2000-04-21 04:51:56  mg/dL   \n",
       "\n",
       "   SortOrd  ValueMMOL      DDate  hourOfDay  series  series_id  \n",
       "0     7880        7.5 2000-04-21          4   False      73331  \n",
       "1     7881        7.4 2000-04-21          4   False      73331  \n",
       "2     7882        7.4 2000-04-21          4   False      73331  \n",
       "3     7883        7.4 2000-04-21          4   False      73331  \n",
       "4     7884        7.4 2000-04-21          4   False      73331  "
      ]
     },
     "execution_count": 101,
     "metadata": {},
     "output_type": "execute_result"
    }
   ],
   "source": [
    "## looking at remaining structured data\n",
    "CGMDf.head()"
   ]
  },
  {
   "cell_type": "code",
   "execution_count": 23,
   "metadata": {},
   "outputs": [
    {
     "data": {
      "text/plain": [
       "RecID                                 int64\n",
       "PtID                                  int64\n",
       "ParentCITYDeviceUploadsID             int64\n",
       "DeviceDtTm                   datetime64[ns]\n",
       "Units                                object\n",
       "SortOrd                               int64\n",
       "ValueMMOL                           float64\n",
       "DDate                        datetime64[ns]\n",
       "hourOfDay                             int64\n",
       "series                                 bool\n",
       "series_id                             int64\n",
       "dtype: object"
      ]
     },
     "execution_count": 23,
     "metadata": {},
     "output_type": "execute_result"
    }
   ],
   "source": [
    "CGMDf.dtypes"
   ]
  },
  {
   "cell_type": "code",
   "execution_count": 117,
   "metadata": {},
   "outputs": [
    {
     "data": {
      "text/plain": [
       "{'series_mean': 109.63116182339385, 'series_max': 1258, 'series_min': 26}"
      ]
     },
     "execution_count": 117,
     "metadata": {},
     "output_type": "execute_result"
    }
   ],
   "source": [
    "## Create a Dictionary of statistics for summary\n",
    "ptStats = {} ## stat dictionary\n",
    "\n",
    "## number of people in the file\n",
    "ptStats['number_of_people']=CGMDf.groupby(['PtID'])['RecID'].count().shape[0] \n",
    "\n",
    "## avg series per person, max series per person, min series per person\n",
    "c = pd.DataFrame(CGMDf.groupby(['PtID','series_id'])['RecID'].count())\n",
    "c.reset_index(inplace=True)\n",
    "ptStats['number_of_series_per_person_mean'] = c.groupby(['PtID'])['RecID'].count().mean()\n",
    "ptStats['number_of_series_per_person_max'] = c.groupby(['PtID'])['RecID'].count().max()\n",
    "ptStats['number_of_series_per_person_min'] = c.groupby(['PtID'])['RecID'].count().min()\n",
    "\n",
    "## avg series per person, max series per person, min series per person\n",
    "d = pd.DataFrame(CGMDf.groupby(['PtID','series_id'])['RecID'].count())\n",
    "d.reset_index(inplace=True)\n",
    "srStats={} ## series stat dictionary\n",
    "\n",
    "srStats['series_mean'] = d.RecID.mean()\n",
    "srStats['series_max'] = d.RecID.max()\n",
    "srStats['series_min'] = d.RecID.min()\n",
    "srStats\n",
    "## go back up and fix for dataframe\n",
    "\n"
   ]
  },
  {
   "cell_type": "code",
   "execution_count": 143,
   "metadata": {},
   "outputs": [
    {
     "data": {
      "image/png": "[encoded data removed]",
      "text/plain": [
       "<Figure size 864x576 with 1 Axes>"
      ]
     },
     "metadata": {},
     "output_type": "display_data"
    }
   ],
   "source": [
    "CGMDf.head()\n",
    "BGbyPerson = CGMDf.groupby('PtID').agg({'ValueMMOL': ['mean', 'min', 'max','std']})\n",
    "BGbyPerson.reset_index(inplace=True)\n",
    "BGbyPerson\n",
    "BGbyPerson.ValueMMOL.mean\n",
    "AA = BGbyPerson.droplevel(0, axis=1)\n",
    "fig = pyplot.figure()\n",
    "AA['mean'].hist(bins=20, figsize=(12,8), grid=False,xlabelsize=14,ylabelsize=14)\n",
    "pyplot.title('Mean BG per Person')\n",
    "pyplot.xlabel('Count of people')\n",
    "pyplot.ylabel('BG in MMOL/L')\n",
    "pyplot.show()"
   ]
  },
  {
   "cell_type": "code",
   "execution_count": 114,
   "metadata": {},
   "outputs": [
    {
     "data": {
      "text/plain": [
       "{'series_mean': 109.63116182339385, 'series_max': 1258, 'series_min': 26}"
      ]
     },
     "execution_count": 114,
     "metadata": {},
     "output_type": "execute_result"
    }
   ],
   "source": [
    "d = pd.DataFrame(CGMDf.groupby(['PtID','series_id'])['RecID'].count())\n",
    "d.reset_index(inplace=True)\n",
    "srStats={} ## series stat dictionary\n",
    "\n",
    "srStats['series_mean'] = d.RecID.mean()\n",
    "srStats['series_max'] = d.RecID.max()\n",
    "srStats['series_min'] = d.RecID.min()\n",
    "srStats"
   ]
  },
  {
   "cell_type": "code",
   "execution_count": 116,
   "metadata": {},
   "outputs": [
    {
     "data": {
      "text/html": [
       "<div>\n",
       "<style scoped>\n",
       "    .dataframe tbody tr th:only-of-type {\n",
       "        vertical-align: middle;\n",
       "    }\n",
       "\n",
       "    .dataframe tbody tr th {\n",
       "        vertical-align: top;\n",
       "    }\n",
       "\n",
       "    .dataframe thead th {\n",
       "        text-align: right;\n",
       "    }\n",
       "</style>\n",
       "<table border=\"1\" class=\"dataframe\">\n",
       "  <thead>\n",
       "    <tr style=\"text-align: right;\">\n",
       "      <th></th>\n",
       "      <th>metric</th>\n",
       "      <th>value</th>\n",
       "    </tr>\n",
       "  </thead>\n",
       "  <tbody>\n",
       "    <tr>\n",
       "      <th>0</th>\n",
       "      <td>series_mean</td>\n",
       "      <td>109.631162</td>\n",
       "    </tr>\n",
       "    <tr>\n",
       "      <th>1</th>\n",
       "      <td>series_max</td>\n",
       "      <td>1258.000000</td>\n",
       "    </tr>\n",
       "    <tr>\n",
       "      <th>2</th>\n",
       "      <td>series_min</td>\n",
       "      <td>26.000000</td>\n",
       "    </tr>\n",
       "  </tbody>\n",
       "</table>\n",
       "</div>"
      ],
      "text/plain": [
       "        metric        value\n",
       "0  series_mean   109.631162\n",
       "1   series_max  1258.000000\n",
       "2   series_min    26.000000"
      ]
     },
     "execution_count": 116,
     "metadata": {},
     "output_type": "execute_result"
    }
   ],
   "source": [
    "td = pd.DataFrame(srStats.items(),columns=['metric','value'])\n",
    "td"
   ]
  },
  {
   "cell_type": "markdown",
   "metadata": {},
   "source": [
    "### Ideas\n",
    "\n",
    "Glucose\n",
    "Average Glucose by person\n",
    "min and max per person\n",
    "\n",
    "Series stats\n",
    "Series length\n",
    "Series Min and Max\n",
    "\n"
   ]
  },
  {
   "cell_type": "code",
   "execution_count": 111,
   "metadata": {},
   "outputs": [
    {
     "data": {
      "text/plain": [
       "{'number_of_people': 144,\n",
       " 'number_of_series_per_person_mean': 123.54861111111111,\n",
       " 'number_of_series_per_person_max': 596,\n",
       " 'number_of_series_per_person_min': 1}"
      ]
     },
     "execution_count": 111,
     "metadata": {},
     "output_type": "execute_result"
    }
   ],
   "source": [
    "ptStats"
   ]
  },
  {
   "cell_type": "code",
   "execution_count": 109,
   "metadata": {},
   "outputs": [
    {
     "data": {
      "text/plain": [
       "123.54861111111111"
      ]
     },
     "execution_count": 109,
     "metadata": {},
     "output_type": "execute_result"
    }
   ],
   "source": [
    "c = pd.DataFrame(CGMDf.groupby(['PtID','series_id'])['RecID'].count())\n",
    "c.reset_index(inplace=True)\n",
    "c.groupby(['PtID'])['RecID'].count().mean()"
   ]
  },
  {
   "cell_type": "code",
   "execution_count": 103,
   "metadata": {},
   "outputs": [
    {
     "data": {
      "text/plain": [
       "{'number_of_people': 144}"
      ]
     },
     "execution_count": 103,
     "metadata": {},
     "output_type": "execute_result"
    }
   ],
   "source": [
    "ptStats"
   ]
  },
  {
   "cell_type": "code",
   "execution_count": 65,
   "metadata": {},
   "outputs": [
    {
     "data": {
      "text/plain": [
       "35561"
      ]
     },
     "execution_count": 65,
     "metadata": {},
     "output_type": "execute_result"
    }
   ],
   "source": [
    "grpPTandSeries = pd.DataFrame(CGMDf.groupby(['PtID','series_id'])['RecID'].count()) ## number of people in the file\n",
    "grpPTandSeries[grpPTandSeries['RecID']<=100000].shape[0]\n",
    "\n",
    "## Remove the sequences less than 10, they will be useless, create stats based on that."
   ]
  },
  {
   "cell_type": "code",
   "execution_count": 62,
   "metadata": {},
   "outputs": [
    {
     "data": {
      "text/plain": [
       "array([[<AxesSubplot:title={'center':'RecID'}>]], dtype=object)"
      ]
     },
     "execution_count": 62,
     "metadata": {},
     "output_type": "execute_result"
    },
    {
     "data": {
      "image/png": "[encoded data removed]",
      "text/plain": [
       "<Figure size 864x576 with 1 Axes>"
      ]
     },
     "metadata": {},
     "output_type": "display_data"
    }
   ],
   "source": [
    "grpPTandSeries[grpPTandSeries['RecID'].between(0,800)].hist(bins=150,figsize=(12,8), grid=False)"
   ]
  },
  {
   "cell_type": "code",
   "execution_count": 29,
   "metadata": {},
   "outputs": [
    {
     "data": {
      "text/plain": [
       "58276"
      ]
     },
     "execution_count": 29,
     "metadata": {},
     "output_type": "execute_result"
    }
   ],
   "source": [
    "CGMDf.groupby(['PtID'])['RecID'].count().max()\n",
    "\n",
    "#CGMDf.groupby(['PtID','series_id'])['RecID'].count()"
   ]
  },
  {
   "cell_type": "code",
   "execution_count": null,
   "metadata": {},
   "outputs": [],
   "source": []
  }
 ],
 "metadata": {
  "interpreter": {
   "hash": "33a4eb190a92b8893ca76062e2d07ed51e6f44f0cea0d0fca300e97f94ad9939"
  },
  "kernelspec": {
   "display_name": "Python 3.9.10 ('base')",
   "language": "python",
   "name": "python3"
  },
  "language_info": {
   "codemirror_mode": {
    "name": "ipython",
    "version": 3
   },
   "file_extension": ".py",
   "mimetype": "text/x-python",
   "name": "python",
   "nbconvert_exporter": "python",
   "pygments_lexer": "ipython3",
   "version": "3.9.10"
  },
  "orig_nbformat": 4
 },
 "nbformat": 4,
 "nbformat_minor": 2
}
